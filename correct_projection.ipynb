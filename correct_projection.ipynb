{
 "cells": [
  {
   "cell_type": "markdown",
   "id": "99c2d966-fa99-4418-ba55-61b99c9fdc9e",
   "metadata": {},
   "source": [
    "The original way I had of handling the HRRR projection turned out to be imprecise, with up to almost 8km of error in the projection corners. Luckily, the GRIB files have the correct projection information and that works––mostly. Unfortunately, the projection created doesn't seem to work with matplotlib."
   ]
  },
  {
   "cell_type": "code",
   "execution_count": 1,
   "id": "21bb49ab-475e-4495-8efb-68b255e3f98b",
   "metadata": {},
   "outputs": [],
   "source": [
    "# You can get these with pygrib from any of the HRRR CONUS grib files:\n",
    "#     import pygrib\n",
    "#     grib_data = pygrib.open(grib_loc)\n",
    "#     proj_params = grib_data[1].projparams\n",
    "\n",
    "\n",
    "proj_params = {'a': 6371229,\n",
    "               'b': 6371229,\n",
    "               'proj': 'lcc',\n",
    "               'lon_0': 262.5,\n",
    "               'lat_0': 38.5,\n",
    "               'lat_1': 38.5,\n",
    "               'lat_2': 38.5}"
   ]
  },
  {
   "cell_type": "markdown",
   "id": "f26b925a-505a-41d9-865c-cf3ae8829863",
   "metadata": {},
   "source": [
    "I had to update to the newest version of cartopy (0.20.1), but it does have support to directly create a CRS projection from these."
   ]
  },
  {
   "cell_type": "code",
   "execution_count": null,
   "id": "9b6447dd-529f-4db1-a254-db1f74639110",
   "metadata": {},
   "outputs": [],
   "source": [
    "import cartopy.crs as ccrs\n",
    "projection = ccrs.CRS(proj_params)"
   ]
  },
  {
   "cell_type": "markdown",
   "id": "ef05260e-665a-434d-b346-0408cdb6ff5c",
   "metadata": {},
   "source": [
    "Let's try this out with an example HRRR Zarr:"
   ]
  },
  {
   "cell_type": "code",
   "execution_count": 3,
   "id": "c5339c28-2911-4c93-b610-9b442fdf1531",
   "metadata": {},
   "outputs": [
    {
     "name": "stdout",
     "output_type": "stream",
     "text": [
      "The temperature at SLC International Airport on July 5 at 19z was 89.8 degree_Fahrenheit\n"
     ]
    }
   ],
   "source": [
    "import s3fs\n",
    "import xarray as xr\n",
    "from datetime import datetime\n",
    "from metpy.units import units\n",
    "\n",
    "def load_example_data():\n",
    "    reference_time = datetime(2021, 7, 5, 19)\n",
    "    var_name = \"TMP\"\n",
    "    var_level = \"surface\"\n",
    "\n",
    "    fs = s3fs.S3FileSystem(anon=True)\n",
    "    root_url = reference_time.strftime(\"s3://hrrrzarr/sfc/%Y%m%d/%Y%m%d_%Hz_anl.zarr\")\n",
    "\n",
    "    s3_lookups = [s3fs.S3Map(url, s3=fs) for url in [f\"{root_url}/{var_level}/{var_name}\", \n",
    "                                                     f\"{root_url}/{var_level}/{var_name}/{var_level}\"]]\n",
    "\n",
    "    return xr.open_mfdataset(s3_lookups, engine=\"zarr\")\n",
    "\n",
    "surface_temp = load_example_data()\n",
    "\n",
    "# SLC international airport\n",
    "airport_lat, airport_lon = 40.47, -111.59\n",
    "x, y = projection.transform_point(airport_lon, airport_lat, ccrs.PlateCarree())\n",
    "temperature = surface_temp.sel(projection_x_coordinate=x, \n",
    "                               projection_y_coordinate=y, method=\"nearest\").TMP.values\n",
    "\n",
    "temperature = (temperature * units.kelvin).to(units.fahrenheit)\n",
    "print(f\"The temperature at SLC International Airport on July 5 at 19z was {temperature:.1f}\")"
   ]
  },
  {
   "cell_type": "markdown",
   "id": "f6a96c3d-d61b-47d2-a11b-2a9d335fc8be",
   "metadata": {},
   "source": [
    "We can also create a map of the data. Since the projection object doesn't work directly with matplotlib, first we generate the latitude and longitude values using metpy."
   ]
  },
  {
   "cell_type": "code",
   "execution_count": 4,
   "id": "960cadab-5fa8-4880-8ba2-4076ac41efe7",
   "metadata": {},
   "outputs": [],
   "source": [
    "import metpy\n",
    "\n",
    "def assign_coordinates(ds):\n",
    "    ds = ds.rename(projection_x_coordinate=\"x\", projection_y_coordinate=\"y\")\n",
    "    ds = ds.metpy.assign_crs(projection.to_cf())\n",
    "    ds = ds.metpy.assign_latitude_longitude()\n",
    "    return ds\n",
    "\n",
    "surface_temp = assign_coordinates(surface_temp)"
   ]
  },
  {
   "cell_type": "markdown",
   "id": "5e68a4ae-8fe9-4d86-a2f9-964c3b1c4871",
   "metadata": {},
   "source": [
    "Now all we have to do is map this from the (latitude and longitude) PlateCarree projection!"
   ]
  },
  {
   "cell_type": "code",
   "execution_count": 5,
   "id": "b0ee7bc6-2d3e-45bf-9f54-676643830c57",
   "metadata": {},
   "outputs": [
    {
     "name": "stdout",
     "output_type": "stream",
     "text": [
      "CPU times: user 1.46 s, sys: 113 ms, total: 1.57 s\n",
      "Wall time: 2.52 s\n"
     ]
    },
    {
     "data": {
      "text/plain": [
       "<cartopy.mpl.contour.GeoContourSet at 0x16ca237c0>"
      ]
     },
     "execution_count": 5,
     "metadata": {},
     "output_type": "execute_result"
    },
    {
     "data": {
      "image/png": "[encoded data removed]",
      "text/plain": [
       "<Figure size 432x288 with 1 Axes>"
      ]
     },
     "metadata": {
      "needs_background": "light"
     },
     "output_type": "display_data"
    }
   ],
   "source": [
    "%%time\n",
    "import matplotlib.pyplot as plt\n",
    "\n",
    "ax = plt.axes(projection=ccrs.PlateCarree())\n",
    "plt.contourf(surface_temp.longitude, surface_temp.latitude, surface_temp.TMP)"
   ]
  },
  {
   "cell_type": "code",
   "execution_count": null,
   "id": "9ba9258c-d161-4d10-9ed1-6cf49375f2d2",
   "metadata": {},
   "outputs": [],
   "source": []
  }
 ],
 "metadata": {
  "kernelspec": {
   "display_name": "gefs",
   "language": "python",
   "name": "gefs"
  },
  "language_info": {
   "codemirror_mode": {
    "name": "ipython",
    "version": 3
   },
   "file_extension": ".py",
   "mimetype": "text/x-python",
   "name": "python",
   "nbconvert_exporter": "python",
   "pygments_lexer": "ipython3",
   "version": "3.9.7"
  }
 },
 "nbformat": 4,
 "nbformat_minor": 5
}
