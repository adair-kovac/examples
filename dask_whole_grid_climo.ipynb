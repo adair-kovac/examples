{
 "cells": [
  {
   "cell_type": "markdown",
   "id": "e0cadee2-e541-4484-91bd-233e00d30bac",
   "metadata": {},
   "source": [
    "# HRRR Zarr Cloud Example (dask)\n",
    "\n",
    "This notebook demonstrates using dask and AWS Fargate to calculate 95th percentile September wind gust climatologies for each gridpoint from 2016-2019 for the entire CONUS in under 10 minutes.\n",
    "\n",
    "## Motivation\n",
    "\n",
    "In this example, the \"win\" of cloud computing isn't anything to do with performing calculations across large data. Instead, we run a calculation across small data (2,880 hours) a number of times (there are almost 2 million grid points). I/O takes much more time than computation, so beefier machines don't help––what does help is having a lot of separate machines with their own network bandwidth. The fact that we're I/O bound and don't require many compute resources (CPU or memory) means we can request many small, cheap machines to work in parallel.\n",
    "\n",
    "## Introduction\n",
    "\n",
    "[Fargate](https://aws.amazon.com/fargate) is an AWS product that allows us to abstract away all management of physical or virtual machines. [Dask Cloud Provider](https://cloudprovider.dask.org/en/latest/index.html) adds another level of ease-of-use in deploying our code. Dask Cloud Provider will create a cluster for us––48 worker nodes managed by 1 central scheduler node that will divvy up tasks and collect the computation results. \n",
    "\n",
    "This is called an \"ephemeral cluster\", created to perform just one job and then disappear. It's an approach that allows us to perform the analyses we need when we need them without having to purchase physical machines, handle scheduling machine use with colleagues, or pay for cloud resources that are running idle.\n",
    "\n",
    "## Pre-reqs:\n",
    "* You have an AWS account and wherever you're running the code is [configured](https://docs.aws.amazon.com/cli/latest/userguide/cli-configure-quickstart.html) to use your aws credentials and the us-west-1 AWS region.\n",
    "* You're running the code from an environment whose important library versions match those in the docker image (these requirements are stated at the bottom of this notebook).\n",
    "* Your AWS account has a high enough [service quota](https://cloudprovider.dask.org/en/latest/troubleshooting.html#requested-cpu-configuration-above-limit).\n",
    "* You're willing to pay some money for the AWS resources (it should be well under a dollar)."
   ]
  },
  {
   "cell_type": "markdown",
   "id": "73629e8e-97bd-4473-af0d-1115ed53c15e",
   "metadata": {},
   "source": [
    "## Worker code\n",
    "\n",
    "Every worker will run the same code in parallel. For this example, we'll be writing low-level code to grab each chunk of the zarr array and hand it to a separate worker.\n",
    "\n",
    "We should be able to use libraries for this––dask, zarr, and xarray all have built-in support for parallelizing computations over chunks. However, I was running into trouble using them since the largest dimension in the dataset (time) is represented as separate datasets, not a dimension within the data array. Zarr arrays aren't easy to update, so it makes sense to represent the hourly-updating HRRR data as multiple arrays based on time. I'll update this example if/when I find a good way to get one of the libraries to partition the data by chunk and aggregate by time efficiently."
   ]
  },
  {
   "cell_type": "code",
   "execution_count": 108,
   "id": "9c703529-f111-4144-8056-e0990df2de15",
   "metadata": {},
   "outputs": [],
   "source": [
    "import dataclasses\n",
    "import datetime\n",
    "import numcodecs as ncd\n",
    "import numpy as np\n",
    "import s3fs\n",
    "\n",
    "# Code for low-level access to chunk data (could be simplified for this specific use case)\n",
    "s3 = s3fs.S3FileSystem(anon=True)\n",
    "\n",
    "@dataclasses.dataclass\n",
    "class ZarrId:\n",
    "    run_hour: datetime.datetime\n",
    "    level_type: str\n",
    "    var_level: str\n",
    "    var_name: str\n",
    "    model_type: str\n",
    "        \n",
    "    def format_chunk_id(self, chunk_id):\n",
    "        return f\"0.{chunk_id}\" if self.model_type == \"fcst\" else chunk_id\n",
    "        \n",
    "\n",
    "def create_s3_chunk_url(zarr_id, chunk_id, prefix=False):\n",
    "    url = zarr_id.run_hour.strftime(\n",
    "        f\"hrrrzarr/{zarr_id.level_type}/%Y%m%d/%Y%m%d_%Hz_{zarr_id.model_type}.zarr/\")\n",
    "    url += f\"{zarr_id.var_level}/{zarr_id.var_name}/{zarr_id.var_level}/{zarr_id.var_name}/\"\n",
    "    url += f\"{zarr_id.format_chunk_id(chunk_id)}\"\n",
    "    return url\n",
    "\n",
    "\n",
    "def retrieve_data(zarr_id, s3_url):\n",
    "    with s3.open(s3_url, 'rb') as compressed_data:\n",
    "        buffer = ncd.blosc.decompress(compressed_data.read())\n",
    "\n",
    "        dtype = \"<f2\"\n",
    "        if zarr_id.var_level == \"surface\" and zarr_id.var_name == \"PRES\":\n",
    "            dtype = \"<f4\"\n",
    "\n",
    "        chunk = np.frombuffer(buffer, dtype=dtype)\n",
    "\n",
    "        if zarr_id.model_type == \"anl\":\n",
    "            data_array = np.reshape(chunk, (150, 150))\n",
    "        else:\n",
    "            entry_size = 22500\n",
    "            data_array = np.reshape(chunk, (len(chunk)//entry_size, 150, 150))\n",
    "\n",
    "    return data_array\n",
    "\n",
    "\n",
    "def get_chunk(zid, chunk_id):\n",
    "    try:\n",
    "        return retrieve_data(zid, create_s3_chunk_url(zid, chunk_id))\n",
    "    except:\n",
    "        return None"
   ]
  },
  {
   "cell_type": "code",
   "execution_count": 109,
   "id": "4603ef0f-e9da-49b4-bae3-e47089a227cf",
   "metadata": {},
   "outputs": [],
   "source": [
    "# The actual calculation\n",
    "def get_percentile_for_chunk(chunk_id):\n",
    "    gust_array = np.array([x for x in (get_chunk(zid, chunk_id) for zid in zids) if x is not None])\n",
    "    percentile_95 = np.percentile(gust_array, 95, axis=0)\n",
    "    return percentile_95"
   ]
  },
  {
   "cell_type": "code",
   "execution_count": 67,
   "id": "59c241ef-c1fc-4ab2-8ac0-b94dd5d1dc8e",
   "metadata": {
    "tags": []
   },
   "outputs": [],
   "source": [
    "## Define the data we want to retrieve\n",
    "from pandas import date_range\n",
    "\n",
    "dates = []\n",
    "for year in range(2016, 2020): \n",
    "    dates += [hour.to_pydatetime() for hour in date_range(start=f\"{year}-09-01\",end=f\"{year}-10-01\",\n",
    "                                                 freq=\"H\", closed=\"left\")]\n",
    "\n",
    "zids = [ZarrId(\n",
    "                run_hour=date,\n",
    "                level_type=\"sfc\",\n",
    "                var_level=\"surface\",\n",
    "                var_name=\"GUST\",\n",
    "                model_type=\"anl\"\n",
    "            ) \n",
    "        for date in dates]"
   ]
  },
  {
   "cell_type": "markdown",
   "id": "215f19a3-4c8f-4a03-9d40-a9cf83f6712e",
   "metadata": {},
   "source": [
    "## Setting up the cluster\n",
    "\n",
    "Using [dask_cloudprovider](https://cloudprovider.dask.org/en/latest/aws.html), starting the cluster is one line of code. Note that I added some extra stuff to make it easy to find the [logs on CloudWatch](https://us-west-1.console.aws.amazon.com/cloudwatch/home?region=us-west-1#).\n",
    "\n",
    "It takes 2-3 minutes to start up for me. You'll start owing Amazon a (small) bill once these resources start up, but note that they'll automatically get killed if you leave the cluster running idle for too long, reducing the risk to you of accidentally incurring large charges. (You should still check manually though and kill any resources left running.) The downside is that it's quite possible for the cluster to time out while you're trying to do interactive data analysis (or debug your code). You can pass the scheduler_timeout argument to mitigate this.\n",
    "\n",
    "### Note on docker\n",
    "\n",
    "The \"image\" argument below is a reference to a docker image on [Amazon's Elastic Container Registry (ECR)](https://aws.amazon.com/ecr/). You'll need to have your notebook run from an environment with compatible dependency versions––the contents of a requirements.txt stating these are at at the bottom of this notebook.\n",
    "\n",
    "To make the image, I copied the Dockerfile from [daskdev/dask image](https://github.com/dask/dask-docker) and added my own dependencies. The documentation talks about providing $EXTRA_CONDA_PACKAGES to the default image, but this option doesn't appear to be possible using the FargateCluster. It should be possible with the [EC2Cluster](https://cloudprovider.dask.org/en/latest/aws.html#elastic-compute-cloud-ec2)."
   ]
  },
  {
   "cell_type": "code",
   "execution_count": 110,
   "id": "9cf5d8b3-822b-4b8e-899a-d3a12ff0e6e0",
   "metadata": {
    "tags": []
   },
   "outputs": [
    {
     "name": "stdout",
     "output_type": "stream",
     "text": [
      "CPU times: user 33.7 s, sys: 3.17 s, total: 36.8 s\n",
      "Wall time: 2min 36s\n"
     ]
    },
    {
     "data": {
      "text/html": [
       "<div style='color: var(--jp-ui-font-color0, #000000); background-color: var(--jp-layout-color2, #f2f2f2); display: inline-block; padding: 10px; border: 1px solid var(--jp-border-color0, #999999);'>\n",
       "  <h3>FargateCluster</h3>\n",
       "  <ul>\n",
       "    <li><b>Dashboard: </b><a href='http://13.57.176.77:8787/status' target='_blank'>http://13.57.176.77:8787/status</a>\n",
       "  </ul>\n",
       "</div>\n"
      ],
      "text/plain": [
       "FargateCluster(bb757723, 'tcp://13.57.176.77:8786', workers=48, threads=48, memory=44.70 GiB)"
      ]
     },
     "metadata": {},
     "output_type": "display_data"
    }
   ],
   "source": [
    "%%time\n",
    "import datetime\n",
    "from dask_cloudprovider.aws import FargateCluster\n",
    "\n",
    "time_string = datetime.datetime.now().strftime(\"%Y-%M-%d-%H-%m\") # just using to identify logs\n",
    "cluster = FargateCluster(n_workers=48, worker_cpu=256, worker_mem=1024, # Use cheap wimpy machines\n",
    "          image=\"public.ecr.aws/i5z4g4e5/climo\",\n",
    "          cloudwatch_logs_group=f\"dask-climo-{time_string}\")\n",
    "cluster"
   ]
  },
  {
   "cell_type": "markdown",
   "id": "53fc2596-475b-49b5-8e10-9fbd20048e09",
   "metadata": {},
   "source": [
    "### Cluster dashboard\n",
    "\n",
    "The displayed link will show you where the workers are in completing the required computations. It also has a tab showing each node's use of resources, so you can make sure to request machines with the minimum possible resources to minimize your costs."
   ]
  },
  {
   "cell_type": "code",
   "execution_count": 111,
   "id": "e05ea212-bbb9-477e-9954-ec2fa1cd30b8",
   "metadata": {},
   "outputs": [],
   "source": [
    "from dask.distributed import Client\n",
    "client = Client(cluster) ## If you forget this line, Dask will run locally or on the last-configured client!"
   ]
  },
  {
   "cell_type": "markdown",
   "id": "5e47fcf5-bf1f-4f1a-93c0-7f355bcd89d2",
   "metadata": {},
   "source": [
    "## Running the job\n",
    "\n",
    "We use the dask library to set up a \"delayed\" object with the instructions for calculating the desired percentile for every chunk. Calling compute() then launches the actual calculation.\n",
    "\n",
    "### Note on runtime and resources\n",
    "\n",
    "The job will take about 5-6 minutes. It could theoretically be halved by using 96 machines instead of 48, without appreciably increasing the cost (which should be under 50 cents). But when I tried the cluster struggled to start. YMMV."
   ]
  },
  {
   "cell_type": "code",
   "execution_count": 112,
   "id": "53ed81fe-667b-4ede-87bf-ce1ff012741c",
   "metadata": {},
   "outputs": [
    {
     "name": "stdout",
     "output_type": "stream",
     "text": [
      "CPU times: user 2.25 s, sys: 202 ms, total: 2.45 s\n",
      "Wall time: 5min 45s\n"
     ]
    }
   ],
   "source": [
    "%%time\n",
    "from dask import delayed\n",
    "\n",
    "chunk_y = range(8)\n",
    "chunk_x = range(12)\n",
    "\n",
    "chunk_ids = [f\"{y}.{x}\" for y in chunk_y for x in chunk_x]\n",
    "gust_climo_data = delayed(np.array)([\n",
    "              [delayed(get_percentile_for_chunk)(f\"{y}.{x}\") for y in chunk_y]\n",
    "                   for x in chunk_x])\n",
    "gust_climo_data = gust_climo_data.compute()"
   ]
  },
  {
   "cell_type": "code",
   "execution_count": null,
   "id": "0b280c96-5725-4078-adfa-8f73000c826d",
   "metadata": {
    "tags": []
   },
   "outputs": [],
   "source": [
    "cluster.close()"
   ]
  },
  {
   "cell_type": "markdown",
   "id": "5668a029-dbbe-4d80-ade5-c6dcc7863172",
   "metadata": {},
   "source": [
    "### Closing the cluster\n",
    "\n",
    "I've noticed that calling cluster.close() often produces errors and sometimes leaves the scheduler hanging, at least if I'm being impatient and starting/killing cluster after cluster in the same notebook. I often finish cleaning up resources manually using the [ECS dashboard](https://us-west-1.console.aws.amazon.com/ecs/home?region=us-west-1#/clusters). (ECS = Elastic Container Service, the parent service for Fargate.)"
   ]
  },
  {
   "cell_type": "markdown",
   "id": "9bab4e3f-2667-4408-b3ab-6b19d4449cc3",
   "metadata": {},
   "source": [
    "## Post-processing the data\n",
    "Now that we have a small-enough dataset returned to a single machine, we can finish our analysis without using cloud resources.\n",
    "\n",
    "We knit the chunk data into a single array, then get the latitude/longitude values so we can plot it."
   ]
  },
  {
   "cell_type": "code",
   "execution_count": 113,
   "id": "31cebd13-4c06-44a0-8fac-7dc033963b38",
   "metadata": {},
   "outputs": [
    {
     "name": "stdout",
     "output_type": "stream",
     "text": [
      "CPU times: user 10.6 ms, sys: 10.7 ms, total: 21.2 ms\n",
      "Wall time: 21.1 ms\n"
     ]
    }
   ],
   "source": [
    "%%time\n",
    "gust_climo_data = np.hstack(\n",
    "    [np.vstack(chunk_data) for chunk_data in gust_climo_data])"
   ]
  },
  {
   "cell_type": "code",
   "execution_count": 114,
   "id": "d1010437-83f1-458d-8bc5-0c8d3055735c",
   "metadata": {},
   "outputs": [
    {
     "name": "stdout",
     "output_type": "stream",
     "text": [
      "CPU times: user 239 ms, sys: 30.2 ms, total: 269 ms\n",
      "Wall time: 2.26 s\n"
     ]
    }
   ],
   "source": [
    "%%time\n",
    "# Get lats and lons from chunk index\n",
    "import xarray as xr\n",
    "\n",
    "chunk_index = xr.open_zarr(s3fs.S3Map(\"s3://hrrrzarr/grid/HRRR_chunk_index.zarr\", s3=s3))"
   ]
  },
  {
   "cell_type": "code",
   "execution_count": 115,
   "id": "42aeb702-fcbf-4967-bb8c-cfccd01e245a",
   "metadata": {},
   "outputs": [
    {
     "data": {
      "image/png": "[encoded data removed]",
      "text/plain": [
       "<Figure size 720x720 with 1 Axes>"
      ]
     },
     "metadata": {
      "needs_background": "light"
     },
     "output_type": "display_data"
    },
    {
     "name": "stdout",
     "output_type": "stream",
     "text": [
      "CPU times: user 2.44 s, sys: 381 ms, total: 2.82 s\n",
      "Wall time: 34.8 s\n"
     ]
    },
    {
     "name": "stderr",
     "output_type": "stream",
     "text": [
      "distributed.client - ERROR - Failed to reconnect to scheduler after 10.00 seconds, closing client\n",
      "_GatheringFuture exception was never retrieved\n",
      "future: <_GatheringFuture finished exception=CancelledError()>\n",
      "asyncio.exceptions.CancelledError\n"
     ]
    }
   ],
   "source": [
    "%%time\n",
    "import matplotlib.pyplot as plt\n",
    "import cartopy.crs as ccrs\n",
    "\n",
    "# Get rid of invalid values from dummy gridpoints in chunks that weren't actually 150x150\n",
    "matrix = gust_climo_data[:1059, :1799]\n",
    "fig = plt.figure(figsize=(10,10))\n",
    "ax = plt.axes(projection=ccrs.PlateCarree())\n",
    "plt.contourf(chunk_index.longitude, chunk_index.latitude, matrix)\n",
    "ax.coastlines()\n",
    "plt.show()\n",
    "plt.close()"
   ]
  },
  {
   "cell_type": "markdown",
   "id": "38b53058-6f2a-461b-8a5a-cf9a777412ca",
   "metadata": {},
   "source": [
    "## requirements.txt\n",
    "\n",
    "python==3.8.10  \n",
    "python-blosc==1.9.2   \n",
    "cytoolz==0.11.0  \n",
    "dask==2021.5.0  \n",
    "dask_cloudprovider==2021.6.0  \n",
    "lz4==3.1.3  \n",
    "nomkl  \n",
    "numpy==1.20.3  \n",
    "pandas==1.0.1  \n",
    "xarray==0.18.2  \n",
    "s3fs==2021.5.0  \n",
    "zarr==2.8.3  \n",
    "boto3==1.16.52  \n",
    "msgpack-python==1.0.2  \n",
    "matplotlib  \n",
    "cartopy  \n",
    "metpy  "
   ]
  }
 ],
 "metadata": {
  "kernelspec": {
   "display_name": "daws",
   "language": "python",
   "name": "daws"
  },
  "language_info": {
   "codemirror_mode": {
    "name": "ipython",
    "version": 3
   },
   "file_extension": ".py",
   "mimetype": "text/x-python",
   "name": "python",
   "nbconvert_exporter": "python",
   "pygments_lexer": "ipython3",
   "version": "3.8.10"
  }
 },
 "nbformat": 4,
 "nbformat_minor": 5
}
