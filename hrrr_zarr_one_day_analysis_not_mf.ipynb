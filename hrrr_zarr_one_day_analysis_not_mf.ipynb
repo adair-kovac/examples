{
 "cells": [
  {
   "cell_type": "markdown",
   "id": "d8da0b2f-7cfa-4b2b-9102-cf855d0a9d55",
   "metadata": {},
   "source": [
    "# HRRR Zarr Example\n",
    "## Download an analysis variable, whole grid, 24 hours\n",
    "\n",
    "This example shows a fast and convenient way to download and merge multiple hours of analysis data from the HRRR Zarr S3 archive. It should be easy to adapt for cloud computing using Dask as well.\n",
    "\n",
    "If you only want data at a single grid point or a small region, please refer to other examples on how to download data by chunk. Doing so is much faster, especially as you look at more hours or variables."
   ]
  },
  {
   "cell_type": "code",
   "execution_count": 14,
   "id": "d4c5883a-f81e-46a9-b57b-a5a134a45da1",
   "metadata": {},
   "outputs": [],
   "source": [
    "import s3fs\n",
    "import xarray as xr\n",
    "import metpy\n",
    "import datetime\n",
    "import matplotlib.pyplot as plt\n",
    "import cartopy.crs as ccrs\n",
    "fs = s3fs.S3FileSystem(anon=True)"
   ]
  },
  {
   "cell_type": "markdown",
   "id": "bd6258d1-9b45-4911-87ca-b40107f5d41b",
   "metadata": {},
   "source": [
    "Because the HRRR Zarr archive contains metadata (such as the grid information) in a group and the actual data in a subgroup, the xarray open_dataset function doesn't work if all you want to do is open data for a single hour––for that, call xr.open_mfdataset instead. \n",
    "\n",
    "But xr.open_dataset is faster and has the capability to lazy-load, so since we're already going to be combining multiple datasets, let's go ahead and use that function, which will work equally well if we feed it the group url (it'll just load the metadata) as if we pass the subgroup url (it'll load the data variable but not the metadata)."
   ]
  },
  {
   "cell_type": "code",
   "execution_count": 15,
   "id": "1e7f2ab4-e2b3-456f-9a65-129e875509b4",
   "metadata": {},
   "outputs": [],
   "source": [
    "def load(url, time=None):\n",
    "    # Download the data from S3. May be lazy.\n",
    "    ds = xr.open_dataset(s3fs.S3Map(url, s3=fs), engine=\"zarr\")\n",
    "    ds[\"time\"] = time\n",
    "    ds = ds.set_coords(\"time\")\n",
    "    # Later on we use metpy functions that expect the grid variables to be x and y\n",
    "    ds = ds.rename(projection_x_coordinate=\"x\", projection_y_coordinate=\"y\")\n",
    "    return ds"
   ]
  },
  {
   "cell_type": "markdown",
   "id": "7bb7c342-7e04-4b1f-a06c-1797e0d16cea",
   "metadata": {},
   "source": [
    "Now we actually create the dataset we want in 3 steps:\n",
    "- Download the grid data\n",
    "- Download the actual data for the variable of interest\n",
    "- Add the grid data to the dataset and enhance with metpy functions that understand the coordinate reference system"
   ]
  },
  {
   "cell_type": "code",
   "execution_count": 16,
   "id": "e4cb1cce-c7b2-4a28-8d01-81efa85e4138",
   "metadata": {},
   "outputs": [],
   "source": [
    "def load_combined_dataset(start_date, num_hours, level, param_short_name):\n",
    "    group_url_format = f\"s3://hrrrzarr/sfc/%Y%m%d/%Y%m%d_%Hz_anl.zarr/{level}/{param_short_name}\"\n",
    "    \n",
    "    # Get data at the group level just once so we have the grid data\n",
    "    group_url = start_date.strftime(group_url_format)\n",
    "    grid = load(group_url)\n",
    "    \n",
    "    # Load and combine the data for each hour\n",
    "    datasets = []\n",
    "    for i in range(num_hours):\n",
    "        time = start_date + datetime.timedelta(hours=i)\n",
    "        subgroup_url = time.strftime(group_url_format) + f\"/{level}\"\n",
    "        datasets.append(load(subgroup_url, time=time))\n",
    "    ds = xr.concat(datasets, dim=\"time\", combine_attrs=\"override\")\n",
    "    \n",
    "    # Add the grid data to the combined dataset\n",
    "    ds[\"x\"] = grid[\"x\"]\n",
    "    ds[\"y\"] = grid[\"y\"]  \n",
    "    ds = ds.metpy.assign_crs(grid_mapping_name=\"lambert_conformal_conic\", longitude_of_central_meridian=-97.5,\n",
    "                                 latitude_of_projection_origin=38.5,\n",
    "                                 standard_parallel=38.5)\n",
    "    ds = ds.metpy.assign_latitude_longitude()\n",
    "    \n",
    "    return ds"
   ]
  },
  {
   "cell_type": "markdown",
   "id": "c770b017-2adf-4483-bc5c-ba02e05e6a2d",
   "metadata": {},
   "source": [
    "Running this for 24 hours takes about half a minute."
   ]
  },
  {
   "cell_type": "code",
   "execution_count": 20,
   "id": "e2ba87c6-d6c8-417c-a4bc-1ade03c0323e",
   "metadata": {
    "tags": []
   },
   "outputs": [
    {
     "name": "stdout",
     "output_type": "stream",
     "text": [
      "CPU times: user 9.64 s, sys: 378 ms, total: 10 s\n",
      "Wall time: 32 s\n"
     ]
    }
   ],
   "source": [
    "%%time\n",
    "ds = load_combined_dataset(datetime.datetime(2021, 4, 1), 24, \"1000mb\", \"TMP\")"
   ]
  },
  {
   "cell_type": "markdown",
   "id": "f0d63513-f407-4874-b842-2f903d9e31cc",
   "metadata": {},
   "source": [
    "It seems to do some slight lazy-load, since when we do a test computation (getting the standard deviation over time) it takes 1.5 seconds. When all the data is loaded, the computation takes around 50 ms."
   ]
  },
  {
   "cell_type": "code",
   "execution_count": 21,
   "id": "d177c2a4-eba0-47a4-8136-626cd8863403",
   "metadata": {},
   "outputs": [
    {
     "name": "stdout",
     "output_type": "stream",
     "text": [
      "CPU times: user 1.49 s, sys: 48.3 ms, total: 1.54 s\n",
      "Wall time: 1.54 s\n"
     ]
    }
   ],
   "source": [
    "%%time\n",
    "std_dev = ds.TMP.std(dim=\"time\")"
   ]
  },
  {
   "cell_type": "code",
   "execution_count": 22,
   "id": "aaf49458-cf5c-493c-822a-8b6607359ba5",
   "metadata": {},
   "outputs": [
    {
     "data": {
      "image/png": "[encoded data removed]",
      "text/plain": [
       "<Figure size 432x288 with 1 Axes>"
      ]
     },
     "metadata": {
      "needs_background": "light"
     },
     "output_type": "display_data"
    }
   ],
   "source": [
    "ax = plt.axes(projection=ccrs.PlateCarree())\n",
    "ax.contourf(std_dev.longitude, std_dev.latitude, std_dev)\n",
    "ax.coastlines()\n",
    "\n",
    "plt.show()"
   ]
  },
  {
   "cell_type": "markdown",
   "id": "d3c15304-fb95-4c3b-b516-ffa7ea855c5d",
   "metadata": {},
   "source": [
    "**Troubleshoot:** In my Jupyter notebook setup, the pyproj package gives the following error when it tries looking up the projection info:\n",
    "\n",
    "```\n",
    "CRSError: Invalid datum string: urn:ogc:def:datum:EPSG::6326: (Internal Proj Error: proj_create: SQLite error on SELECT name, ellipsoid_auth_name, ellipsoid_code, prime_meridian_auth_name, prime_meridian_code, publication_date, frame_reference_epoch, deprecated FROM geodetic_datum WHERE auth_name = ? AND code = ?: no such column: publication_date)\n",
    "```\n",
    "\n",
    "I believe this is because I run Jupyter from a conda environment that's different than the kernel Jupyter is using. In any case, there's an easy fix:"
   ]
  },
  {
   "cell_type": "code",
   "execution_count": 2,
   "id": "32a25d6e-2645-405c-b7d2-621645e7191c",
   "metadata": {},
   "outputs": [],
   "source": [
    "import pyproj\n",
    "pyproj.datadir.set_data_dir(\"/Users/<me>/.conda/envs/<this notebook's kernel env>/share/proj\")"
   ]
  }
 ],
 "metadata": {
  "kernelspec": {
   "display_name": "TetheredBalloon-7710",
   "language": "python",
   "name": "tetheredballoon-7710"
  },
  "language_info": {
   "codemirror_mode": {
    "name": "ipython",
    "version": 3
   },
   "file_extension": ".py",
   "mimetype": "text/x-python",
   "name": "python",
   "nbconvert_exporter": "python",
   "pygments_lexer": "ipython3",
   "version": "3.8.10"
  }
 },
 "nbformat": 4,
 "nbformat_minor": 5
}
