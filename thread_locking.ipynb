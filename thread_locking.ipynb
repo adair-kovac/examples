{
 "cells": [
  {
   "cell_type": "markdown",
   "id": "5e137bf4-7348-4ac3-bc12-5a1797c49c7d",
   "metadata": {},
   "source": [
    "This notebook is meant to be a minimal example of the thread-locking issue when reading the HRRR Zarr data directly from S3. Specifically, I want to be able to see if it replicates with other versions."
   ]
  },
  {
   "cell_type": "code",
   "execution_count": 14,
   "id": "c130c058-032f-4e3d-be7d-ac7c2db45502",
   "metadata": {},
   "outputs": [
    {
     "name": "stdout",
     "output_type": "stream",
     "text": [
      "CPU times: user 1.81 s, sys: 540 ms, total: 2.35 s\n",
      "Wall time: 3.81 s\n"
     ]
    }
   ],
   "source": [
    "%%time\n",
    "import s3fs \n",
    "import xarray as xr\n",
    "\n",
    "s3 = s3fs.S3FileSystem(anon=True)\n",
    "def lookup(path):\n",
    "    return s3fs.S3Map(path, s3=s3)\n",
    "\n",
    "path_forecast = \"hrrrzarr/sfc/20211124/20211124_00z_fcst.zarr/surface/PRES\"\n",
    "ds_from_s3 = xr.open_zarr(lookup(f\"{path_forecast}/surface\")) \n",
    "_ = ds_from_s3.PRES.values"
   ]
  },
  {
   "cell_type": "markdown",
   "id": "ab4084b8-b64e-4494-a126-d3a6aaa286a7",
   "metadata": {},
   "source": [
    "Confirm that we have all the data downloaded:"
   ]
  },
  {
   "cell_type": "code",
   "execution_count": 15,
   "id": "22522a33-c9ca-4c2b-b166-d27fc9b06749",
   "metadata": {},
   "outputs": [
    {
     "data": {
      "text/plain": [
       "348.84173583984375"
      ]
     },
     "execution_count": 15,
     "metadata": {},
     "output_type": "execute_result"
    }
   ],
   "source": [
    "def ds_size_mb(ds):\n",
    "    return ds.nbytes/1024**2\n",
    "\n",
    "ds_size_mb(ds_from_s3)"
   ]
  },
  {
   "cell_type": "markdown",
   "id": "0efcf309-831a-448c-b4fc-f06a062522b7",
   "metadata": {},
   "source": [
    "Now run the slow calculation"
   ]
  },
  {
   "cell_type": "code",
   "execution_count": 31,
   "id": "06b1ff02-6e8f-4caa-bc82-efb7845e3a7b",
   "metadata": {},
   "outputs": [
    {
     "name": "stdout",
     "output_type": "stream",
     "text": [
      " CPU times: user 1.72 s, sys: 382 ms, total: 2.1 s\n",
      "Wall time: 3.4 s\n"
     ]
    },
    {
     "data": {
      "text/plain": [
       "         55587 function calls (54174 primitive calls) in 3.391 seconds\n",
       "\n",
       "   Ordered by: internal time\n",
       "   List reduced from 542 to 2 due to restriction <2>\n",
       "\n",
       "   ncalls  tottime  percall  cumtime  percall filename:lineno(function)\n",
       "     1388    3.329    0.002    3.329    0.002 {method 'acquire' of '_thread.lock' objects}\n",
       "      193    0.007    0.000    0.007    0.000 local.py:237(release_data)"
      ]
     },
     "metadata": {},
     "output_type": "display_data"
    }
   ],
   "source": [
    "%%time\n",
    "%%prun -l 2\n",
    "\n",
    "_ = ds_from_s3.PRES.mean(dim=\"time\").values"
   ]
  },
  {
   "cell_type": "markdown",
   "id": "4a4595b2-95ef-4541-8b23-6a5702e0c55a",
   "metadata": {},
   "source": [
    "Confirm no more data was downloaded"
   ]
  },
  {
   "cell_type": "code",
   "execution_count": 18,
   "id": "08a0a2db-5d7e-430f-9531-7a5ed4adc2b7",
   "metadata": {},
   "outputs": [
    {
     "data": {
      "text/plain": [
       "348.84173583984375"
      ]
     },
     "execution_count": 18,
     "metadata": {},
     "output_type": "execute_result"
    }
   ],
   "source": [
    "ds_size_mb(ds_from_s3)"
   ]
  },
  {
   "cell_type": "markdown",
   "id": "e1c1c308-4ce8-40d2-a587-2bc4317eae89",
   "metadata": {},
   "source": [
    "Now, we download the same data locally."
   ]
  },
  {
   "cell_type": "code",
   "execution_count": null,
   "id": "7ea9ce68-fb23-40de-b496-9bf70fc35637",
   "metadata": {},
   "outputs": [],
   "source": [
    "# ! aws s3 cp s3://hrrrzarr/sfc/20211124/20211124_00z_fcst.zarr/surface/PRES/surface downloaded.zarr --no-sign-request --recursive"
   ]
  },
  {
   "cell_type": "code",
   "execution_count": 19,
   "id": "2f53e4b6-1e2a-4c54-a941-ddcadd5179fa",
   "metadata": {},
   "outputs": [],
   "source": [
    "ds_from_local = xr.open_zarr(\"downloaded.zarr\")"
   ]
  },
  {
   "cell_type": "code",
   "execution_count": 20,
   "id": "9a07f91b-2ee8-4d51-93df-12959734a828",
   "metadata": {},
   "outputs": [
    {
     "data": {
      "text/plain": [
       "348.84173583984375"
      ]
     },
     "execution_count": 20,
     "metadata": {},
     "output_type": "execute_result"
    }
   ],
   "source": [
    "ds_size_mb(ds_from_local)"
   ]
  },
  {
   "cell_type": "code",
   "execution_count": 32,
   "id": "b91992b2-e4fa-4de8-b33c-b7c41c69ebf4",
   "metadata": {},
   "outputs": [
    {
     "name": "stdout",
     "output_type": "stream",
     "text": [
      " CPU times: user 954 ms, sys: 299 ms, total: 1.25 s\n",
      "Wall time: 351 ms\n"
     ]
    },
    {
     "data": {
      "text/plain": [
       "         54279 function calls (52866 primitive calls) in 0.343 seconds\n",
       "\n",
       "   Ordered by: internal time\n",
       "   List reduced from 539 to 2 due to restriction <2>\n",
       "\n",
       "   ncalls  tottime  percall  cumtime  percall filename:lineno(function)\n",
       "      988    0.269    0.000    0.269    0.000 {method 'acquire' of '_thread.lock' objects}\n",
       "      193    0.018    0.000    0.018    0.000 local.py:237(release_data)"
      ]
     },
     "metadata": {},
     "output_type": "display_data"
    }
   ],
   "source": [
    "%%time\n",
    "%%prun -l 2\n",
    "\n",
    "_ = ds_from_local.PRES.mean(dim=\"time\").values"
   ]
  },
  {
   "cell_type": "code",
   "execution_count": 28,
   "id": "44acc079-d8c2-44e2-ace2-fea469563577",
   "metadata": {},
   "outputs": [
    {
     "name": "stdout",
     "output_type": "stream",
     "text": [
      "Python: 3.10.0\n",
      "xarray: 0.20.1\n",
      "dask: 2021.11.2\n",
      "zarr: 2.10.3\n",
      "s3fs: 2021.11.0\n"
     ]
    }
   ],
   "source": [
    "import dask\n",
    "import zarr\n",
    "import platform\n",
    "print(f\"Python: {platform.python_version()}\")\n",
    "print(f\"xarray: {xr.__version__}\")\n",
    "print(f\"dask: {dask.__version__}\")\n",
    "print(f\"zarr: {zarr.__version__}\")\n",
    "print(f\"s3fs: {s3fs.__version__}\")"
   ]
  },
  {
   "cell_type": "code",
   "execution_count": 33,
   "id": "81f87238-67fd-4a69-a697-3c67429b4324",
   "metadata": {},
   "outputs": [
    {
     "name": "stdout",
     "output_type": "stream",
     "text": [
      "\n",
      "INSTALLED VERSIONS\n",
      "------------------\n",
      "commit: None\n",
      "python: 3.10.0 | packaged by conda-forge | (default, Nov 20 2021, 02:25:38) [Clang 11.1.0 ]\n",
      "python-bits: 64\n",
      "OS: Darwin\n",
      "OS-release: 18.7.0\n",
      "machine: x86_64\n",
      "processor: i386\n",
      "byteorder: little\n",
      "LC_ALL: None\n",
      "LANG: None\n",
      "LOCALE: (None, 'UTF-8')\n",
      "libhdf5: None\n",
      "libnetcdf: None\n",
      "\n",
      "xarray: 0.20.1\n",
      "pandas: 1.3.4\n",
      "numpy: 1.21.4\n",
      "scipy: None\n",
      "netCDF4: None\n",
      "pydap: None\n",
      "h5netcdf: None\n",
      "h5py: None\n",
      "Nio: None\n",
      "zarr: 2.10.3\n",
      "cftime: None\n",
      "nc_time_axis: None\n",
      "PseudoNetCDF: None\n",
      "rasterio: None\n",
      "cfgrib: None\n",
      "iris: None\n",
      "bottleneck: None\n",
      "dask: 2021.11.2\n",
      "distributed: 2021.11.2\n",
      "matplotlib: None\n",
      "cartopy: None\n",
      "seaborn: None\n",
      "numbagg: None\n",
      "fsspec: 2021.11.0\n",
      "cupy: None\n",
      "pint: None\n",
      "sparse: None\n",
      "setuptools: 59.2.0\n",
      "pip: 21.3.1\n",
      "conda: None\n",
      "pytest: None\n",
      "IPython: 7.29.0\n",
      "sphinx: None\n"
     ]
    }
   ],
   "source": [
    "xr.show_versions()"
   ]
  },
  {
   "cell_type": "code",
   "execution_count": null,
   "id": "e7af6ccc-7374-41f0-bd41-dc4fee397bd7",
   "metadata": {},
   "outputs": [],
   "source": []
  }
 ],
 "metadata": {
  "kernelspec": {
   "display_name": "test_threadlock",
   "language": "python",
   "name": "test_threadlock"
  },
  "language_info": {
   "codemirror_mode": {
    "name": "ipython",
    "version": 3
   },
   "file_extension": ".py",
   "mimetype": "text/x-python",
   "name": "python",
   "nbconvert_exporter": "python",
   "pygments_lexer": "ipython3",
   "version": "3.10.0"
  }
 },
 "nbformat": 4,
 "nbformat_minor": 5
}
